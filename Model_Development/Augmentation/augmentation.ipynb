{
 "cells": [
  {
   "cell_type": "code",
   "execution_count": 1,
   "id": "46dc55e8",
   "metadata": {},
   "outputs": [],
   "source": [
    "import cv2 as cv\n",
    "from tensorflow.keras.preprocessing.image import ImageDataGenerator\n",
    "import os"
   ]
  },
  {
   "cell_type": "markdown",
   "id": "20eaa040",
   "metadata": {},
   "source": [
    "# Step of augmentation\n",
    "\n",
    "### Step 1: Rotate 90 degree\n",
    "### Step 2: Brightness 1.5"
   ]
  },
  {
   "cell_type": "code",
   "execution_count": 4,
   "id": "b957faa9",
   "metadata": {},
   "outputs": [
    {
     "name": "stdout",
     "output_type": "stream",
     "text": [
      "Found 3780 images belonging to 10 classes.\n"
     ]
    }
   ],
   "source": [
    "#Step1: Rotate\n",
    "datagenRotate = ImageDataGenerator(\n",
    "        rotation_range=90,\n",
    "        fill_mode='nearest')\n",
    "\n",
    "#loop over the data in batches and this automatically saves the images\n",
    "i = 0\n",
    "for batch in datagenRotate.flow_from_directory('output_M2/train', batch_size=4000,\n",
    "                          class_mode=\"binary\", save_to_dir='AUG_M2/', save_format='jpg'):\n",
    "    i += 1\n",
    "    if i >= 0:\n",
    "        break"
   ]
  },
  {
   "cell_type": "code",
   "execution_count": 5,
   "id": "10241ce8",
   "metadata": {},
   "outputs": [
    {
     "name": "stdout",
     "output_type": "stream",
     "text": [
      "Found 3780 images belonging to 10 classes.\n"
     ]
    }
   ],
   "source": [
    "#Step2: Brightness       \n",
    "datagenBright = ImageDataGenerator(\n",
    "        brightness_range=(1.5,1.5))\n",
    "\n",
    "#loop over the data in batches and this automatically saves the images\n",
    "i = 0\n",
    "for batch in datagenBright.flow_from_directory('output_M2/train', batch_size=4000,\n",
    "                          class_mode=\"binary\", save_to_dir='AUG_M2_BR/', save_format='jpg'):\n",
    "    i += 1\n",
    "    if i >= 0:\n",
    "        break"
   ]
  }
 ],
 "metadata": {
  "kernelspec": {
   "display_name": "Python 3 (ipykernel)",
   "language": "python",
   "name": "python3"
  },
  "language_info": {
   "codemirror_mode": {
    "name": "ipython",
    "version": 3
   },
   "file_extension": ".py",
   "mimetype": "text/x-python",
   "name": "python",
   "nbconvert_exporter": "python",
   "pygments_lexer": "ipython3",
   "version": "3.9.13"
  }
 },
 "nbformat": 4,
 "nbformat_minor": 5
}
