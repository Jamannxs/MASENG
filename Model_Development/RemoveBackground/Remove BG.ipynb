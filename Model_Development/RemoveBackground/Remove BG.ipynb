{
 "cells": [
  {
   "cell_type": "code",
   "execution_count": 9,
   "id": "bdbe396b",
   "metadata": {},
   "outputs": [],
   "source": [
    "import os\n",
    "from PIL import Image\n",
    "import rembg\n",
    "\n",
    "input_dir = './output_M2/val/c09'\n",
    "output_dir = './val_M2_RM/c09'\n",
    "\n",
    "for filename in os.listdir(input_dir):\n",
    "    if filename.endswith('.jpg') or filename.endswith('.png'):\n",
    "        # Open the image\n",
    "        with Image.open(os.path.join(input_dir, filename)) as img:\n",
    "            # Remove the background\n",
    "            output = rembg.remove(img)\n",
    "            # Convert the image mode to RGB\n",
    "            output = output.convert('RGB')\n",
    "            # Save the processed image to the output directory\n",
    "            output.save(os.path.join(output_dir, filename))"
   ]
  },
  {
   "cell_type": "code",
   "execution_count": 10,
   "id": "6c46488a",
   "metadata": {},
   "outputs": [],
   "source": [
    "import os\n",
    "from PIL import Image\n",
    "import rembg\n",
    "\n",
    "input_dir = './output_M2/val/c10'\n",
    "output_dir = './val_M2_RM/c10'\n",
    "\n",
    "for filename in os.listdir(input_dir):\n",
    "    if filename.endswith('.jpg') or filename.endswith('.png'):\n",
    "        # Open the image\n",
    "        with Image.open(os.path.join(input_dir, filename)) as img:\n",
    "            # Remove the background\n",
    "            output = rembg.remove(img)\n",
    "            # Convert the image mode to RGB\n",
    "            output = output.convert('RGB')\n",
    "            # Save the processed image to the output directory\n",
    "            output.save(os.path.join(output_dir, filename))"
   ]
  }
 ],
 "metadata": {
  "kernelspec": {
   "display_name": "Python 3 (ipykernel)",
   "language": "python",
   "name": "python3"
  },
  "language_info": {
   "codemirror_mode": {
    "name": "ipython",
    "version": 3
   },
   "file_extension": ".py",
   "mimetype": "text/x-python",
   "name": "python",
   "nbconvert_exporter": "python",
   "pygments_lexer": "ipython3",
   "version": "3.9.13"
  }
 },
 "nbformat": 4,
 "nbformat_minor": 5
}
